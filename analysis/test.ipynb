{
 "cells": [
  {
   "cell_type": "raw",
   "id": "5582aba1",
   "metadata": {},
   "source": [
    "---\n",
    "title: \"Examples of wrangling GSS data\"\n",
    "author: \"Gary Lupyan\"\n",
    "date: \"10/19/2021\"\n",
    "output: \n",
    "  html_document:\n",
    "    toc: yes\n",
    "    toc_float: yes\n",
    "    theme: cerulean\n",
    "    number_sections: no\n",
    "    css: style.css\n",
    "---"
   ]
  },
  {
   "cell_type": "code",
   "execution_count": null,
   "id": "9c7e071d",
   "metadata": {
    "message": false,
    "warning": false
   },
   "outputs": [],
   "source": [
    "library(foreign)\n",
    "library(Hmisc)\n",
    "library(sjmisc)\n",
    "library(tidyverse)\n",
    "library(ggplot2)\n",
    "library(DT)"
   ]
  },
  {
   "cell_type": "markdown",
   "id": "3e20b114",
   "metadata": {
    "lines_to_next_cell": 0
   },
   "source": [
    "# Load in data\n",
    "\n",
    "We're loading in the SPSS-formatted data from GSS year 2016. Need foreign::spss.get to read the data"
   ]
  },
  {
   "cell_type": "code",
   "execution_count": null,
   "id": "632906e5",
   "metadata": {
    "message": false,
    "tags": [
     "remove_input"
    ],
    "warning": false
   },
   "outputs": [],
   "source": [
    "gss <- spss.get(\"../data/GSS2016.sav\", use.value.labels=TRUE,lowernames=TRUE)"
   ]
  },
  {
   "cell_type": "markdown",
   "id": "436f5ac9",
   "metadata": {},
   "source": [
    "# Two things to watch out for when importing data\n",
    "\n",
    "## Data types\n",
    "\n",
    "Whenever we're loading in data from external sources, especially data as complex as the GSS, we need to make sure that we're importing what we think we're importing. Let's look at a couple variables and see what kind of errors we could accidentally make"
   ]
  },
  {
   "cell_type": "markdown",
   "id": "49c61982",
   "metadata": {},
   "source": [
    "The variable `age` is the respondent's age. Simple enough. Let's try to plot the age distribution using `hist()`. Hmmm..."
   ]
  },
  {
   "cell_type": "code",
   "execution_count": null,
   "id": "bab6793c",
   "metadata": {
    "tags": [
     "remove_cell"
    ]
   },
   "outputs": [],
   "source": [
    "#hist(gss$age)"
   ]
  },
  {
   "cell_type": "markdown",
   "id": "73d31477",
   "metadata": {
    "lines_to_next_cell": 0
   },
   "source": [
    "Hmm.. what's going on?"
   ]
  },
  {
   "cell_type": "code",
   "execution_count": null,
   "id": "98cb0d73",
   "metadata": {},
   "outputs": [],
   "source": [
    "summary(gss$age)"
   ]
  },
  {
   "cell_type": "markdown",
   "id": "a27eae23",
   "metadata": {
    "lines_to_next_cell": 0
   },
   "source": [
    "Uh huh... how do we fix it?\n",
    "What about this? Let's just assume that those >89 are 90. They're not, but it's better than just leaving them out of the analysis, so...."
   ]
  },
  {
   "cell_type": "code",
   "execution_count": null,
   "id": "801f88c6",
   "metadata": {
    "lines_to_next_cell": 0
   },
   "outputs": [],
   "source": [
    "gss$age_recoded = gss$age %>% \n",
    "  fct_recode(\"90\"=\"89 OR OLDER\") %>%\n",
    "  as.numeric\n",
    "\n",
    "mean(gss$age_recoded,na.rm=TRUE)"
   ]
  },
  {
   "cell_type": "markdown",
   "id": "665138e7",
   "metadata": {
    "lines_to_next_cell": 0
   },
   "source": [
    "Ok.. mean is 32.. seems reasonable? Is it correct though? Let's look at a histogram. What do you notice?"
   ]
  },
  {
   "cell_type": "code",
   "execution_count": null,
   "id": "f58e0bb0",
   "metadata": {
    "lines_to_next_cell": 2
   },
   "outputs": [],
   "source": [
    "hist(gss$age_recoded)"
   ]
  },
  {
   "cell_type": "markdown",
   "id": "99248cec",
   "metadata": {},
   "source": [
    "How do we fix this?\n",
    "\n",
    "Now try it yourself by fixing the coding of `realrinc` (respondent's annual income adjusted to 1986 dollars)."
   ]
  },
  {
   "cell_type": "code",
   "execution_count": null,
   "id": "1e1559ca",
   "metadata": {},
   "outputs": [],
   "source": [
    "gss$age_recoded = gss$age %>% \n",
    "  fct_recode(\"90\"=\"89 OR OLDER\") %>%\n",
    "  as.character %>%\n",
    "  as.numeric\n",
    "\n",
    "mean(gss$age_recoded,na.rm=TRUE)"
   ]
  },
  {
   "cell_type": "markdown",
   "id": "d2ee5e48",
   "metadata": {},
   "source": [
    "What's the mean and median income of participants younger than 25 in 2016 dollars? To get 2016 dollars (where these data are from), multiply by 2.19. How many participants are there in this dataset who're younger than 25? "
   ]
  },
  {
   "cell_type": "code",
   "execution_count": null,
   "id": "0c3e27ab",
   "metadata": {},
   "outputs": [],
   "source": [
    "gss$age_recoded = gss$age %>% \n",
    "  fct_recode(\"90\"=\"89 OR OLDER\") %>% \n",
    "  as.character %>%\n",
    "  as.numeric\n",
    "\n",
    "gss <- gss %>% mutate(realrinc = as.numeric(as.character(realrinc)))\n",
    "gss <- gss %>% mutate(realrinc_2016 = realrinc*2.19)"
   ]
  },
  {
   "cell_type": "markdown",
   "id": "9d6d03dc",
   "metadata": {},
   "source": [
    "Break it down by the participant's gender (`sex`). Do you notice anything about the mean vs. median for males vs. females? What is this telling you?"
   ]
  },
  {
   "cell_type": "markdown",
   "id": "052dd09a",
   "metadata": {
    "lines_to_next_cell": 0
   },
   "source": [
    "Solution"
   ]
  },
  {
   "cell_type": "code",
   "execution_count": null,
   "id": "1ead44ad",
   "metadata": {
    "lines_to_next_cell": 0
   },
   "outputs": [],
   "source": [
    "gss %>% filter(age_recoded<25) %>% \n",
    "  summarize(realrinc_2016_mean = mean(realrinc_2016,na.rm=TRUE),realrinc_2016_med = median(realrinc_2016,na.rm=TRUE),n=n())"
   ]
  },
  {
   "cell_type": "markdown",
   "id": "7d2c315b",
   "metadata": {},
   "source": []
  },
  {
   "cell_type": "markdown",
   "id": "3b33673b",
   "metadata": {
    "lines_to_next_cell": 0
   },
   "source": [
    "## Factor levels\n",
    "\n",
    "The variable `happy` contains participant's responses to this question:\n",
    "`Taken all together, how would you say things are these days--would you say that you are very happy, pretty happy, or not too happy?`\n",
    "\n",
    "It's coded as those three levels"
   ]
  },
  {
   "cell_type": "code",
   "execution_count": null,
   "id": "6856407f",
   "metadata": {
    "lines_to_next_cell": 2
   },
   "outputs": [],
   "source": [
    "levels(gss$happy)"
   ]
  },
  {
   "cell_type": "markdown",
   "id": "e4a8dcd4",
   "metadata": {
    "lines_to_next_cell": 0
   },
   "source": [
    "Let's look at respondents' happiness as a function of self-reported health (`health`)"
   ]
  },
  {
   "cell_type": "code",
   "execution_count": null,
   "id": "97687eb9",
   "metadata": {},
   "outputs": [],
   "source": [
    "gss %>% drop_na(health) %>% group_by(health) %>% summarize(happy = mean(as.numeric(happy),na.rm=TRUE))"
   ]
  },
  {
   "cell_type": "markdown",
   "id": "bbc791e7",
   "metadata": {
    "lines_to_next_cell": 0
   },
   "source": [
    "See the problem?"
   ]
  },
  {
   "cell_type": "code",
   "execution_count": null,
   "id": "035c783b",
   "metadata": {},
   "outputs": [],
   "source": [
    "levels(gss$happy)"
   ]
  },
  {
   "cell_type": "markdown",
   "id": "2b5bb38d",
   "metadata": {},
   "source": [
    "Let's fix it:"
   ]
  },
  {
   "cell_type": "code",
   "execution_count": null,
   "id": "1099f7b6",
   "metadata": {
    "lines_to_next_cell": 2
   },
   "outputs": [],
   "source": [
    "gss$happy_rev <- fct_rev(gss$happy)"
   ]
  },
  {
   "cell_type": "markdown",
   "id": "dd4b577a",
   "metadata": {},
   "source": [
    "# Do people know that the earth goes around the sun?\n",
    "\n",
    "Ok, let's switch gearts a bit. Let's look at some relationships between `degree` (participant's education level) and their knowledge of whether the earth goes around the sun or the sun goes around the earth (`earthsun`)"
   ]
  },
  {
   "cell_type": "markdown",
   "id": "25a930d4",
   "metadata": {
    "lines_to_next_cell": 0
   },
   "source": [
    "## Contingency tables using base R\n",
    "The first way we can do this is by using contingency tables found in the base package which by default will show us frequencies:"
   ]
  },
  {
   "cell_type": "code",
   "execution_count": null,
   "id": "5327b354",
   "metadata": {},
   "outputs": [],
   "source": [
    "gss %>% xtabs(~degree+earthsun,data=.) "
   ]
  },
  {
   "cell_type": "markdown",
   "id": "406dca18",
   "metadata": {
    "lines_to_next_cell": 0
   },
   "source": [
    "or more usefully, proportions (notice how we're piping in the `xtabs` output into `prop.table`)"
   ]
  },
  {
   "cell_type": "code",
   "execution_count": null,
   "id": "387326eb",
   "metadata": {
    "lines_to_next_cell": 0
   },
   "outputs": [],
   "source": [
    "gss %>% xtabs(~degree+earthsun,data=.) %>% prop.table(margin=1) %>% round(2)"
   ]
  },
  {
   "cell_type": "markdown",
   "id": "d4e7690f",
   "metadata": {
    "lines_to_next_cell": 0
   },
   "source": [
    "People with less than a high school degree are at chance on this question... What does this mean?). Is that more or less troubling than that 7% of people with graduate degrees get this wrong? (not a rhetorical question!)\n",
    "\n",
    "## Contingency tables using `sjmisc`\n",
    "\n",
    "Here's what the same tabulation looks like using the `sjmisc` package which provides us some nice additional features:"
   ]
  },
  {
   "cell_type": "code",
   "execution_count": null,
   "id": "2cc4a49f",
   "metadata": {},
   "outputs": [],
   "source": [
    "gss %>% flat_table(degree,earthsun)"
   ]
  },
  {
   "cell_type": "markdown",
   "id": "24b033cb",
   "metadata": {
    "lines_to_next_cell": 0
   },
   "source": [
    "..and proportions:"
   ]
  },
  {
   "cell_type": "code",
   "execution_count": null,
   "id": "404d98c6",
   "metadata": {},
   "outputs": [],
   "source": [
    "gss %>% flat_table(degree,earthsun,margin=c(\"row\"),digits=0) #the digits argument is the number of significant digits"
   ]
  },
  {
   "cell_type": "markdown",
   "id": "025f0ced",
   "metadata": {
    "lines_to_next_cell": 0
   },
   "source": [
    "`sjmisc` has additional grouping functions that allow us to split a variable into equal groups. Let's do this for `degree`. Note that we need to first convert it to numeric."
   ]
  },
  {
   "cell_type": "code",
   "execution_count": null,
   "id": "d9fc5963",
   "metadata": {},
   "outputs": [],
   "source": [
    "gss %>% transform(degree=as.numeric(degree)) %>% \n",
    "  split_var(degree,n=3,val.labels = c(\"Lowest tertile\",\"Middle tertle\", \"Highest tertile\")) %>% \n",
    "  flat_table(degree_g,earthsun,margin=c(\"row\"),digits=1)\n"
   ]
  },
  {
   "cell_type": "markdown",
   "id": "84566165",
   "metadata": {
    "lines_to_next_cell": 0
   },
   "source": [
    "## Contingency tables using `dplyr`\n",
    "\n",
    "Here's what a basic contingency table looks like with `dplyr`"
   ]
  },
  {
   "cell_type": "code",
   "execution_count": null,
   "id": "38ad207f",
   "metadata": {},
   "outputs": [],
   "source": [
    "gss %>% group_by(degree,earthsun) %>% summarize(n=n())"
   ]
  },
  {
   "cell_type": "markdown",
   "id": "46f1044d",
   "metadata": {
    "lines_to_next_cell": 0
   },
   "source": [
    "Let's get rid of those NAs:"
   ]
  },
  {
   "cell_type": "code",
   "execution_count": null,
   "id": "22a63b4c",
   "metadata": {},
   "outputs": [],
   "source": [
    "gss %>% group_by(degree,earthsun) %>% drop_na(degree,earthsun) %>% summarize(n=n())"
   ]
  },
  {
   "cell_type": "markdown",
   "id": "d2506848",
   "metadata": {
    "lines_to_next_cell": 0
   },
   "source": [
    "Let's convert to proportions:"
   ]
  },
  {
   "cell_type": "code",
   "execution_count": null,
   "id": "b4cb722a",
   "metadata": {},
   "outputs": [],
   "source": [
    "gss %>% group_by(degree,earthsun) %>% drop_na(degree,earthsun) %>% summarize(n=n()) %>% \n",
    "    mutate(proportion = n / sum(n)) "
   ]
  },
  {
   "cell_type": "markdown",
   "id": "b7a03962",
   "metadata": {
    "lines_to_next_cell": 0
   },
   "source": [
    "Notice that the data are in a `long` format. This is exactly what we want for graphing and statistical analyses, but if you want a more readable table, just pivot it like so:"
   ]
  },
  {
   "cell_type": "code",
   "execution_count": null,
   "id": "5e0bd209",
   "metadata": {
    "lines_to_next_cell": 2
   },
   "outputs": [],
   "source": [
    "gss %>% group_by(degree,earthsun) %>% drop_na(degree,earthsun) %>% \n",
    "    summarize(n=n()) %>% mutate(proportion = n / sum(n)) %>% \n",
    "  select(-n) %>% #get rid of the number of observations column since we're using proportions here \n",
    "    pivot_wider(names_from=earthsun,values_from=proportion)  \n"
   ]
  },
  {
   "cell_type": "markdown",
   "id": "0ac45bf1",
   "metadata": {
    "lines_to_next_cell": 0
   },
   "source": [
    "## Human evolution, politics, education\n",
    "Let's look at another relationship: endorsement of the statement \"human beings developed from animals\" (`evolved`) and see how it relates to political party affiliation (`partyid`)"
   ]
  },
  {
   "cell_type": "code",
   "execution_count": null,
   "id": "53201fee",
   "metadata": {},
   "outputs": [],
   "source": [
    "gss %>% flat_table(polviews,evolved,margin=c(\"row\"),digits=1)"
   ]
  },
  {
   "cell_type": "markdown",
   "id": "f88979be",
   "metadata": {
    "lines_to_next_cell": 0
   },
   "source": [
    "Let's see how the likelihood of endorsing human evolution is affected by education (`degree`):"
   ]
  },
  {
   "cell_type": "code",
   "execution_count": null,
   "id": "6692f31e",
   "metadata": {},
   "outputs": [],
   "source": [
    "gss %>% group_by(degree) %>% drop_na(degree,evolved) %>% summarize(evolved=round(mean(evolved==\"True\",na.rm=TRUE),2),n=n())"
   ]
  },
  {
   "cell_type": "markdown",
   "id": "16221dcc",
   "metadata": {
    "lines_to_next_cell": 0
   },
   "source": [
    "Now let's see whether education has a differential effect for people of various political orientations. For simplicity let's dichotomize education into respondents with a college degree or above, and those below a college degree:"
   ]
  },
  {
   "cell_type": "code",
   "execution_count": null,
   "id": "7c9d723d",
   "metadata": {
    "lines_to_next_cell": 0
   },
   "outputs": [],
   "source": [
    "gss %>% drop_na(polviews,degree,evolved) %>%\n",
    "    mutate(college_or_more = (as.numeric(degree) > 3)) %>%\n",
    "    group_by(polviews,college_or_more) %>% \n",
    "    summarize(humans_evolved=round(mean(evolved==\"True\",na.rm=TRUE),2),n=n()) %>% \n",
    "  datatable(options = list(pageLength = 20)) #check this out in a browser!"
   ]
  },
  {
   "cell_type": "markdown",
   "id": "3392d0cd",
   "metadata": {
    "lines_to_next_cell": 0
   },
   "source": [
    "**(notice the small Ns in some cells)**\n",
    "\n",
    "This is the kind of data that's perfect for graphing to look at interactions. But we're examining it in table form, we can pivot it to wide and make a difference column, e.g"
   ]
  },
  {
   "cell_type": "code",
   "execution_count": null,
   "id": "d6342b61",
   "metadata": {},
   "outputs": [],
   "source": [
    "gss %>% drop_na(polviews,degree,evolved) %>%\n",
    "    mutate(college_or_more = (as.numeric(degree) > 3)) %>%\n",
    "    group_by(polviews,college_or_more) %>% \n",
    "    summarize(humans_evolved=mean(evolved==\"True\",na.rm=TRUE)) %>%\n",
    "    pivot_wider(names_from=college_or_more,values_from=humans_evolved) %>% rename(\"college_or_more\" = `TRUE`, \"lt_college\" = `FALSE`) %>%\n",
    "    mutate(evolution_diff = college_or_more - lt_college) \n"
   ]
  },
  {
   "cell_type": "markdown",
   "id": "8a05c269",
   "metadata": {
    "lines_to_next_cell": 0
   },
   "source": [
    "What does a regression model look like in the tidyverse? Simple! Let's test for the main effects and interaction of `polviews` and `degree` on `evolution` using logistic regression (because our outcome variable is binary). We're going to use `scale` to center the variables. We don't need to explicitly use `drop_na` because glm will automatically drop missing values."
   ]
  },
  {
   "cell_type": "code",
   "execution_count": null,
   "id": "eb936e1c",
   "metadata": {
    "lines_to_next_cell": 2
   },
   "outputs": [],
   "source": [
    "\n",
    "gss %>% glm(I(evolved==\"True\")~scale(as.numeric(polviews))*scale(as.numeric(degree)),data=.,family=binomial) %>% summary\n"
   ]
  },
  {
   "cell_type": "markdown",
   "id": "0dac918a",
   "metadata": {
    "lines_to_next_cell": 0
   },
   "source": [
    "# Now it's your turn!\n",
    "\n",
    "You can look up info on the variables at https://gssdataexplorer.norc.org/variables/vfilter If you just need to quickly look up the description of the variable use `head(gss$var_name)` or summary(gss$var_name) to list its factors (which will be listed in order). Note that when the data were imported from SPSS, all variables were imported as factors, hence the need to convert to numeric as needed.\n",
    "\n",
    "## Children and happiness\n",
    "Are people with children (`childs!=0`) happier (`happy`) than people without children? Does this relationship depend on the respondent's gender? (`sex`) Their age? (`age`)? \n",
    "\n",
    "::: {.notebox}\n",
    "Note\n",
    "Feel free to bin age into discrete groups (20-30, 31-40 etc.). The sjmisc package has nice functions for this. See the cheat sheet.\n",
    ":::\n",
    "\n",
    "Let's start by looking at happiness broken down by whether people have children"
   ]
  },
  {
   "cell_type": "code",
   "execution_count": null,
   "id": "d04c6298",
   "metadata": {},
   "outputs": [],
   "source": [
    "gss %>% drop_na(happy,childs) %>% \n",
    "  mutate(happiness = as.numeric(happy_rev)) %>%\n",
    "  mutate(has_children = childs!=0) %>%\n",
    "  group_by(has_children) %>% summarize(hapiness=round(mean(happiness),2))"
   ]
  },
  {
   "cell_type": "markdown",
   "id": "aab00a2f",
   "metadata": {
    "lines_to_next_cell": 0
   },
   "source": [
    "Looks like people without children are a tiny bit happier. Let's now break it down by the respondent's gender:"
   ]
  },
  {
   "cell_type": "code",
   "execution_count": null,
   "id": "3629a48a",
   "metadata": {
    "lines_to_next_cell": 0
   },
   "outputs": [],
   "source": [
    "gss %>% drop_na(happy,childs) %>% \n",
    "  mutate(happiness = as.numeric(happy_rev)) %>%\n",
    "  mutate(has_children = childs!=0) %>%\n",
    "  group_by(has_children,sex) %>% summarize(hapiness=mean(happiness))"
   ]
  },
  {
   "cell_type": "markdown",
   "id": "219e2929",
   "metadata": {
    "lines_to_next_cell": 0
   },
   "source": [
    "Men with kids are happier than men without kids. For women it goes in the opposite direction, but by a much smaller margin. Let's look at it by age instead, breaking it down into 40 or younger, between 41-59, and 61+. \n",
    "\n",
    "Let's break age up into three age groups. For readability, we'll rename child==0 as \"no children\" and child!=0 as \n",
    "\"has children\" and then `spread` the happiness values by this columns and make a new difference column that highlights the relationship between age and child-having. Positive means people with kids are happier."
   ]
  },
  {
   "cell_type": "code",
   "execution_count": null,
   "id": "0d9ca069",
   "metadata": {
    "lines_to_next_cell": 0
   },
   "outputs": [],
   "source": [
    "gss %>% drop_na(age,happy,childs) %>% \n",
    "  mutate(age_bin = \n",
    "  case_when(age_recoded <= 40 ~ \"<=40\",\n",
    "  (age_recoded > 40 & age_recoded <= 60) ~ \"40-59\",\n",
    "  age_recoded > 60 ~ \"over 60\")) %>% \n",
    "  mutate(child_status = case_when(\n",
    "    childs == 0 ~ \"no children\",\n",
    "    childs != 0 ~ \"has children\",\n",
    "    )) %>%\n",
    "  group_by(age_bin,child_status) %>%\n",
    "  summarize(happy=mean(as.numeric(happy_rev))) %>% spread(child_status,value=happy) %>%\n",
    "    mutate(child_benefit = `has children` - `no children`)\n",
    "\n"
   ]
  },
  {
   "cell_type": "markdown",
   "id": "58c63724",
   "metadata": {},
   "source": [
    "Looks like the benefit, if it's real, grows with age."
   ]
  },
  {
   "cell_type": "markdown",
   "id": "5bfe0256",
   "metadata": {},
   "source": [
    "Let's do one more analysis, breaking it down by gender."
   ]
  },
  {
   "cell_type": "code",
   "execution_count": null,
   "id": "4a8bb231",
   "metadata": {
    "lines_to_next_cell": 0
   },
   "outputs": [],
   "source": [
    "gss %>% drop_na(age,happy,childs) %>% \n",
    "  mutate(age_bin = \n",
    "  case_when(age_recoded <= 40 ~ \"<=40\",\n",
    "  (age_recoded > 40 & age_recoded <= 60) ~ \"40-59\",\n",
    "  age_recoded > 60 ~ \"over 60\")) %>% \n",
    "  mutate(child_status = case_when(\n",
    "    childs == 0 ~ \"no children\",\n",
    "    childs != 0 ~ \"has children\",\n",
    "    )) %>%\n",
    "  group_by(sex,age_bin,child_status) %>%\n",
    "  summarize(happy=mean(as.numeric(happy_rev))) %>% spread(child_status,value=happy) %>%\n",
    "    mutate(child_benefit = `has children` - `no children`)\n"
   ]
  },
  {
   "cell_type": "markdown",
   "id": "d96ed7cc",
   "metadata": {},
   "source": [
    "Huh... quite a different story when looking at it this way. Men with children report higher happiness; women with children, lower happiness pretty much across the board... Though overall, child benefit seems to come in older age."
   ]
  },
  {
   "cell_type": "markdown",
   "id": "5582beb1",
   "metadata": {},
   "source": [
    "## Income and happiness\n",
    "\n",
    "What's the relationship between respondent's income (`realrinc`) and happiness (`happy`)? Use `sjmisc::split_var` to bin income into quintiles (i.e., 5 equal groups). How does this relationship vary for people who have a college degree or higher vs. people who don't? \n",
    "\n",
    "::: {.notebox}\n",
    "**Tip**\n",
    "Remember to convert income to numeric using `as.numeric(as.character(realrinc)))` \n",
    ":::"
   ]
  },
  {
   "cell_type": "markdown",
   "id": "b52be694",
   "metadata": {},
   "source": [
    "::: {.notebox}\n",
    "**Tip**\n",
    "\n",
    "`realrinc` is income in 1986 dollars. To convert to 2016 dollars, multiply by 2.19. Also make sure you interpret the value of `happy` correctly.\n",
    ":::"
   ]
  },
  {
   "cell_type": "code",
   "execution_count": null,
   "id": "f53717f9",
   "metadata": {
    "lines_to_next_cell": 0
   },
   "outputs": [],
   "source": [
    "gss %>% drop_na(realrinc,happy) %>% \n",
    "  mutate(realrinc = as.numeric(as.character(realrinc))*2.19, happiness = as.numeric(happy_rev)) %>%\n",
    "  split_var(realrinc,n=5) %>%\n",
    "  group_by(realrinc_g) %>%\n",
    "  summarize(mean_income = round(mean(realrinc)),happiness = round(mean(happiness),2))"
   ]
  },
  {
   "cell_type": "markdown",
   "id": "0196120b",
   "metadata": {
    "lines_to_next_cell": 0
   },
   "source": [
    "Money may not make people happy, but it sure is correlated with it...\n",
    "\n",
    "Now let's see how it look broken down by education, splitting up by college or greater vs. others and for ease of interpretation, spreading by the education variable. Let's also use this example to illustrate column renaming "
   ]
  },
  {
   "cell_type": "code",
   "execution_count": null,
   "id": "7a36d239",
   "metadata": {
    "lines_to_next_cell": 0
   },
   "outputs": [],
   "source": [
    "levels(gss$degree) #BACHELOR is level factor 4, so >=4 is greater than college\n",
    "\n",
    "gss %>% drop_na(realrinc,happy,degree) %>% \n",
    "  mutate(realrinc = as.numeric(as.character(realrinc))*2.19, \n",
    "         happy = as.numeric(happy), is_college = as.numeric(degree) >= 4) %>%\n",
    "  split_var(realrinc,n=5) %>%\n",
    "  group_by(realrinc_g,is_college) %>%\n",
    "  summarize(happiness = mean(as.numeric(happy_rev))) %>% \n",
    "  pivot_wider(names_from=is_college,values_from = happiness) %>%\n",
    "  rename(\"below a college degree\"=`FALSE`, \"college degree or higher\"=`TRUE`) %>%\n",
    "  mutate(college_adv = round(`college degree or higher` - `below a college degree`,2))\n"
   ]
  },
  {
   "cell_type": "markdown",
   "id": "dc1a23b3",
   "metadata": {},
   "source": [
    "Interesting... looks like there's a small boost to happiness for people with a college degree or higher at each level of income (i.e., adjusting to income to some extent) except for people in the 2nd bin (~20k a year income). \n",
    "\n",
    "## Politics and cynicism\n",
    "\n",
    "Have a look at the variable `helpful`. What's the relationship between `helpful` and political party affiliation (`partyid`)? Notice something funny there) What about its relationship with religiosity (`god`)? Age (`age`)?\n",
    "\n",
    "Since it's hard to interpret \"DEPENDS\" as an answer, let's focus on whether people are helpful or looking out for selves (the first two options)."
   ]
  },
  {
   "cell_type": "markdown",
   "id": "cf9e5f1e",
   "metadata": {
    "lines_to_next_cell": 0
   },
   "source": [
    "Let's first look at how `helpful` is coded"
   ]
  },
  {
   "cell_type": "code",
   "execution_count": null,
   "id": "8237a55a",
   "metadata": {},
   "outputs": [],
   "source": [
    "head(gss$helpful)\n",
    "levels(gss$helpful)"
   ]
  },
  {
   "cell_type": "markdown",
   "id": "28f57c66",
   "metadata": {},
   "source": [
    "Since it's hard to interpret \"DEPENDS\" as the answer, let's focus on whether people are helpful or looking out for selves (the first two options), so remove the \"depends\" respondents. Then create a variable \"Others_are_selfish\" which is coded as 1 when helpful==\"LOOKOUT FOR SELF\" and 0 for helpful==\"HELPFUL\". Now look at the relationship with `partyid`. Return the number of respondents in each `partyid` group as well."
   ]
  },
  {
   "cell_type": "code",
   "execution_count": null,
   "id": "d81d0189",
   "metadata": {
    "lines_to_next_cell": 0
   },
   "outputs": [],
   "source": [
    "gss %>% drop_na(partyid,helpful) %>% \n",
    "  filter(helpful!=\"DEPENDS\") %>%\n",
    "  group_by(partyid) %>% \n",
    "  summarize(Others_are_selfish = round(mean(helpful==\"LOOKOUT FOR SELF\"),2),n=n())"
   ]
  },
  {
   "cell_type": "markdown",
   "id": "9893279e",
   "metadata": {
    "lines_to_next_cell": 0
   },
   "source": [
    "Looks like \"independents\" (libertarians perhaps?) think people are most likely to be looking out for themselves...\n",
    "\n",
    "Let's see how things look by religiosity"
   ]
  },
  {
   "cell_type": "code",
   "execution_count": null,
   "id": "575c5e9d",
   "metadata": {
    "lines_to_next_cell": 0
   },
   "outputs": [],
   "source": [
    "table(gss$god)"
   ]
  },
  {
   "cell_type": "markdown",
   "id": "a993e356",
   "metadata": {},
   "source": [
    "Not too many people denying the existence of god. Let's see how it relates to `helpful`"
   ]
  },
  {
   "cell_type": "code",
   "execution_count": null,
   "id": "7d6d0386",
   "metadata": {
    "lines_to_next_cell": 0
   },
   "outputs": [],
   "source": [
    "gss %>% drop_na(god,helpful) %>% \n",
    "  filter(helpful!=\"DEPENDS\") %>%\n",
    "  group_by(god) %>% \n",
    "  summarize(Others_are_selfish = round(mean(helpful==\"LOOKOUT FOR SELF\"),2),n=n())"
   ]
  },
  {
   "cell_type": "markdown",
   "id": "d6cb58e5",
   "metadata": {
    "lines_to_next_cell": 0
   },
   "source": [
    "Looks like more religious people think others are more out for themseleves (can you think of possible confounds here?)\n",
    "\n",
    "Let's further break it down by partyid, splitting it up into ~democrats and ~republicans"
   ]
  },
  {
   "cell_type": "code",
   "execution_count": null,
   "id": "747926b2",
   "metadata": {
    "lines_to_next_cell": 0
   },
   "outputs": [],
   "source": [
    "gss %>% drop_na(partyid,helpful,god) %>%\n",
    "  filter(helpful != \"DEPENDS\" & partyid != \"INDEPENDENT\" & partyid != \"OTHER PARTY\") %>%\n",
    "  mutate(partyid = as.numeric(partyid)) %>%\n",
    "  mutate(partyid_twoway = case_when((partyid >=1 & partyid <= 3) ~ \"democratic\",\n",
    "    (partyid >= 5 & partyid) <= 7 ~ \"republican\")) %>%\n",
    "    group_by(partyid_twoway,god) %>%\n",
    "  summarize(Others_are_selfish = round(mean(helpful==\"LOOKOUT FOR SELF\"),2)) %>%\n",
    "  pivot_wider(names_from=partyid_twoway,values_from=Others_are_selfish) %>%\n",
    "  mutate(democrats_higher_selfish = democratic-republican)"
   ]
  },
  {
   "cell_type": "markdown",
   "id": "4327af1f",
   "metadata": {},
   "source": [
    "Interesting... Of the democrats, the more religious ones think most people are selfish. For republicans it's the ones of intermediate religiousity who think people are most selfish."
   ]
  },
  {
   "cell_type": "markdown",
   "id": "e18c1e12",
   "metadata": {
    "lines_to_next_cell": 0
   },
   "source": [
    "Finally, let's look at age (which we already turned into a numeric variable above). Let's make a `decade` variable that rounds the age to the nearest decade (a good opportunity to use another kind of wrangling trick)"
   ]
  },
  {
   "cell_type": "code",
   "execution_count": null,
   "id": "0bb32a07",
   "metadata": {
    "lines_to_next_cell": 0
   },
   "outputs": [],
   "source": [
    "gss %>% drop_na(helpful,age_recoded) %>%\n",
    "  filter(helpful != \"DEPENDS\") %>%\n",
    "  mutate(decade = signif(age_recoded,1)) %>%\n",
    "  group_by(decade) %>%\n",
    "  summarize(Others_are_selfish = round(mean(helpful==\"LOOKOUT FOR SELF\"),2))"
   ]
  },
  {
   "cell_type": "markdown",
   "id": "2d9fa022",
   "metadata": {},
   "source": [
    "Wow, talk about big effects! The older people get, the more likely they are to think that people are helpful.  (Is this just a cohort effect? Check the full GSS dataset to find out!)."
   ]
  },
  {
   "cell_type": "markdown",
   "id": "24eea3cb",
   "metadata": {
    "lines_to_next_cell": 0
   },
   "source": [
    "## Individual income, family income, and marital happiness\n",
    "The data includes not only the respondent's income (`realrinc`), but also the family income (`realinc`) This allows you to figure out how much other members of the family (typically the spouse) is earning. Do respondents whose income is a larger proportion of the family income have a different marital satisfaction (`hapmar`)? \n",
    "\n",
    "Let's do this in two ways. First, let's look at the mean proportion of the respondent's relative to family income for the three levels for which `hapmar` is defined:"
   ]
  },
  {
   "cell_type": "code",
   "execution_count": null,
   "id": "f4e64502",
   "metadata": {
    "lines_to_next_cell": 0
   },
   "outputs": [],
   "source": [
    "levels(gss$hapmar)\n",
    "gss %>% drop_na(realrinc,realinc,hapmar) %>% \n",
    "  mutate(\n",
    "    indiv_income = as.numeric(as.character(realrinc))*2.19,\n",
    "    familiy_income = as.numeric(as.character(realinc))*2.19,\n",
    "    r_rel_t_fam = indiv_income/familiy_income) %>%\n",
    "  group_by(hapmar) %>%\n",
    "  summarize(r_rel_t_fam = mean(r_rel_t_fam),n=n())\n"
   ]
  },
  {
   "cell_type": "markdown",
   "id": "442fcabc",
   "metadata": {
    "lines_to_next_cell": 0
   },
   "source": [
    "Surprisingly, only 30 people for whom data are available indicated that they're not too happy in their marriage! In this small group, it looks like the respondent is earning a larger share of the family's income. Let's now break it down by men/women respondent's and those earning more vs. less than 50% of family incomeand look at the average reported marital happiness. \n",
    "\n",
    "Let's also include the mean respondent and family income levels as columns."
   ]
  },
  {
   "cell_type": "code",
   "execution_count": null,
   "id": "25bd9af3",
   "metadata": {
    "lines_to_next_cell": 0
   },
   "outputs": [],
   "source": [
    "gss %>% drop_na(realrinc,realinc,hapmar) %>% \n",
    "  mutate(\n",
    "    hapmar_rev = fct_rev(hapmar),\n",
    "    indiv_income = as.numeric(as.character(realrinc))*2.19,\n",
    "    family_income = as.numeric(as.character(realinc))*2.19,\n",
    "    rel_income = indiv_income/family_income) %>%\n",
    "  mutate(rel_income_bin = case_when(rel_income >.5 ~ \">50%\",\n",
    "                                rel_income <= .5 ~ \"<=50%\")) %>%\n",
    "  group_by(sex,rel_income_bin) %>%\n",
    "  summarize(mean_prop = mean(rel_income),\n",
    "            indiv_income=mean(indiv_income), \n",
    "            family_income=mean(family_income), \n",
    "            marital_happiness = mean(as.numeric(hapmar_rev)),\n",
    "            n=n())"
   ]
  },
  {
   "cell_type": "markdown",
   "id": "f2b33ce3",
   "metadata": {
    "lines_to_next_cell": 0
   },
   "source": [
    "Couple observations: Men who earn >50% of the family income earn quite a bit more as individuals than women who earn more than 50% of the family income. The group with the largest family income are those in which men earn <= 50% of the income (on average men here are contributing just 32% of family income). Looking at marital happiness, the happiest group seems to be the one where men are earning <=50% of the income while the least happy is the one where women are earning >50% of the income (assuming all these marriages are between men and women). (fwif, none of these trends are reliable... Marital happiness is only very slightly related to family income.. bit more so to `finrela` and does not depend on the sex of the respondent). What about having children?\n",
    "\n",
    "## Human evolution and elephant evolution\n",
    "Half of the respondents were asked about human evolution (`evolved`). The other were asked about non-human animal evolution (`evolved2`). How does the difference between endorsing `evolved` and `evolved2` vary by education? Political affiliation? "
   ]
  },
  {
   "cell_type": "code",
   "execution_count": null,
   "id": "c5a5ad18",
   "metadata": {
    "lines_to_next_cell": 0
   },
   "outputs": [],
   "source": [
    "gss %>% drop_na(degree) %>% group_by(degree) %>%\n",
    "  summarize(evolved_humans = mean(as.numeric(evolved==\"True\"),na.rm=TRUE), \n",
    "               evolved_elephants = mean(as.numeric(evolved2==\"True\"),na.rm=TRUE),\n",
    "               diff_humans_elephants = evolved_humans - evolved_elephants,n=n())"
   ]
  },
  {
   "cell_type": "markdown",
   "id": "8f9b2419",
   "metadata": {},
   "source": [
    "Looks the percent of people endorsing both human and animal (technically, elephants) evolution increases with education, but importantly, the difference between the two shrinks somewhat.  Now let's look at it by politics:"
   ]
  },
  {
   "cell_type": "code",
   "execution_count": null,
   "id": "92430113",
   "metadata": {
    "lines_to_next_cell": 0
   },
   "outputs": [],
   "source": [
    "gss %>% drop_na(polviews) %>% group_by(polviews) %>%\n",
    "  summarize(evolved_humans = mean(as.numeric(evolved==\"True\"),na.rm=TRUE), \n",
    "               evolved_elephants = mean(as.numeric(evolved2==\"True\"),na.rm=TRUE),\n",
    "               diff_humans_elephants = evolved_humans - evolved_elephants,n=n())\n"
   ]
  },
  {
   "cell_type": "markdown",
   "id": "1061160c",
   "metadata": {},
   "source": [
    "Pretty striking...  Endorsement of human evolution plummets from 93% to 19% as we go from liberal to conservative while endorsement of elephant evolution barely changes. Also check out the extremely liberal group. In this group 93% endorse human evolution, but only 81% endorse elephant evolution... hmmm."
   ]
  },
  {
   "cell_type": "markdown",
   "id": "aa8bbf9a",
   "metadata": {},
   "source": [
    "## Helper functions"
   ]
  },
  {
   "cell_type": "markdown",
   "id": "d73462a8",
   "metadata": {},
   "source": [
    "Notice how I've been wrapping mean() inside round. Alogn with na.rm=TRUE and wrapping inside as.numeric.. That's a lot of typing. One option is to use a helper function, like so:"
   ]
  },
  {
   "cell_type": "code",
   "execution_count": null,
   "id": "824224e4",
   "metadata": {},
   "outputs": [],
   "source": [
    "mean_round <- function(numbers,sig_digits=2){\n",
    " return(round(mean(as.numeric(numbers),na.rm=TRUE),sig_digits))\n",
    "}"
   ]
  },
  {
   "cell_type": "markdown",
   "id": "e7f1ad4d",
   "metadata": {},
   "source": [
    "Now we can call `mean_round()`, like so:"
   ]
  },
  {
   "cell_type": "code",
   "execution_count": null,
   "id": "68710b61",
   "metadata": {
    "lines_to_next_cell": 0
   },
   "outputs": [],
   "source": [
    "gss %>% drop_na(polviews) %>% group_by(polviews) %>%\n",
    "  summarize(evolved_humans = mean_round(evolved==\"True\"), \n",
    "               evolved_elephants = mean_round(evolved2==\"True\"),\n",
    "               diff_humans_elephants = evolved_humans - evolved_elephants,n=n())\n"
   ]
  },
  {
   "cell_type": "markdown",
   "id": "a2593da7",
   "metadata": {},
   "source": [
    "On the upside, less typing and cleaner code. On the downside, if someone else uses your code, they'll need your helper function.\n",
    "\n"
   ]
  }
 ],
 "metadata": {
  "jupytext": {
   "cell_metadata_filter": "warning,tags,message,-all",
   "main_language": "R",
   "notebook_metadata_filter": "-all"
  }
 },
 "nbformat": 4,
 "nbformat_minor": 5
}
